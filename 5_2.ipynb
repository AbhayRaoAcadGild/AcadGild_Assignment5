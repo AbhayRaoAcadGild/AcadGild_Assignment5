{
 "cells": [
  {
   "cell_type": "markdown",
   "metadata": {},
   "source": [
    "# Assignment 5.2"
   ]
  },
  {
   "cell_type": "markdown",
   "metadata": {},
   "source": [
    "Using the following data, perform a oneway analysis of variance using α=.05. Write up\n",
    "the results in APA format.\n",
    "\n",
    "[Group1: 51, 45, 33, 45, 67]<br>\n",
    "[Group2: 23, 43, 23, 43, 45]<br>\n",
    "[Group3: 56, 76, 74, 87, 56]<br>"
   ]
  },
  {
   "cell_type": "markdown",
   "metadata": {},
   "source": [
    "<h2>Solution</h2>"
   ]
  },
  {
   "cell_type": "markdown",
   "metadata": {},
   "source": [
    "H<sub>0</sub>: &mu;<sub>1</sub> = &mu;<sub>2</sub> = &mu;<sub>3</sub> <br>\n",
    "H<sub>1</sub>: Population means are not equal<br>\n",
    "\n",
    "Sum of squares between Treatments = &Sigma; n<sub>j</sub>(X&#772;<sub>j</sub> - X&#772;)<sup>2</sup> <br>\n",
    "\n",
    "Sum of squares (Error) = &Sigma;&Sigma; (X - X&#772;<sub>j</sub>)<sup>2</sup> <br>\n",
    "\n",
    "test-statistic = &Sigma; n<sub>j</sub>(X&#772;<sub>j</sub> - X&#772;)<sup>2</sup> / (k - 1) / &Sigma;&Sigma; (X - X&#772;<sub>j</sub>)<sup>2</sup> / (N-k)\n",
    "where k  = 3, N = 15\n",
    "\n",
    "Source of Variation Sums of Squares Degrees of Freedom Mean Squares F<br>\n",
    "Between Treatments 3022.93 2 1511.47 9.75 <br>\n",
    "Error or Residual 1860.8 12 155.07\n",
    "\n",
    "F<sub>0.5</sub>(2,12) = 3.885<br>\n",
    "Since 9.75 > 3.885, we reject the null hypothesis.<br>\n",
    "Therefore, the population means are not equal.\n",
    "\n",
    "In APA format,\n",
    "A one-way between subjects ANOVA was conducted to compare the effect of the group on values in group 1, group 2 and group 3. There was a signficant effect of group on values at &alpha; = 0.05 level for group 1, group 2, group 3."
   ]
  },
  {
   "cell_type": "code",
   "execution_count": null,
   "metadata": {},
   "outputs": [],
   "source": []
  }
 ],
 "metadata": {
  "kernelspec": {
   "display_name": "Python 3",
   "language": "python",
   "name": "python3"
  },
  "language_info": {
   "codemirror_mode": {
    "name": "ipython",
    "version": 3
   },
   "file_extension": ".py",
   "mimetype": "text/x-python",
   "name": "python",
   "nbconvert_exporter": "python",
   "pygments_lexer": "ipython3",
   "version": "3.5.4"
  }
 },
 "nbformat": 4,
 "nbformat_minor": 2
}
