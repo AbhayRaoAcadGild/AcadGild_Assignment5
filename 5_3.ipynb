{
 "cells": [
  {
   "cell_type": "markdown",
   "metadata": {},
   "source": [
    "# Assignment 5.3"
   ]
  },
  {
   "cell_type": "markdown",
   "metadata": {},
   "source": [
    "Calculate F Test for given 10, 20, 30, 40, 50 and 5,10,15, 20, 25."
   ]
  },
  {
   "cell_type": "markdown",
   "metadata": {},
   "source": [
    "<h2>Solution</h2>"
   ]
  },
  {
   "cell_type": "markdown",
   "metadata": {},
   "source": [
    "Sample variance s<sup>2</sup> = &Sigma;(X - X&#772;)<sup>2</sup>/ N-1\n",
    "\n",
    "s<sub>1</sub><sup>2</sup> = (400.0 +  100.0 +  0.0 +  100.0 +  400.0)/4 =  250.0\n",
    "\n",
    "s<sub>2</sub><sup>2</sup> = (100.0 +  25.0 +  0.0 +  25.0 +  100.0)/4 = 62.5\n",
    "\n",
    "F-statistic = s<sub>1</sub><sup>2</sup>/s<sub>2</sub><sup>2</sup> = 250/62.5 = 4"
   ]
  },
  {
   "cell_type": "code",
   "execution_count": null,
   "metadata": {},
   "outputs": [],
   "source": []
  }
 ],
 "metadata": {
  "kernelspec": {
   "display_name": "Python 3",
   "language": "python",
   "name": "python3"
  },
  "language_info": {
   "codemirror_mode": {
    "name": "ipython",
    "version": 3
   },
   "file_extension": ".py",
   "mimetype": "text/x-python",
   "name": "python",
   "nbconvert_exporter": "python",
   "pygments_lexer": "ipython3",
   "version": "3.5.4"
  }
 },
 "nbformat": 4,
 "nbformat_minor": 2
}
