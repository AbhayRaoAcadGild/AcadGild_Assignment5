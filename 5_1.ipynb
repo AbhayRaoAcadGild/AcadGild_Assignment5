{
 "cells": [
  {
   "cell_type": "markdown",
   "metadata": {},
   "source": [
    "# Assignment 5.1"
   ]
  },
  {
   "cell_type": "markdown",
   "metadata": {},
   "source": [
    "Is gender independent of education level? A random sample of 395 people were\n",
    "surveyed and each person was asked to report the highest education level they\n",
    "obtained. The data that resulted from the survey is summarized in the following table:<br>\n",
    "High School Bachelors Masters Ph.d. Total<br>\n",
    "Female 60 54 46 41 201<br>\n",
    "Male 40 44 53 57 194<br>\n",
    "Total 100 98 99 98 395<br>\n",
    "Question: Are gender and education level dependent at 5% level of significance? In\n",
    "other words, given the data collected above, is there a relationship between the gender\n",
    "of an individual and the level of education that they have obtained?"
   ]
  },
  {
   "cell_type": "markdown",
   "metadata": {},
   "source": [
    "<h2>Solution</h2>"
   ]
  },
  {
   "cell_type": "markdown",
   "metadata": {},
   "source": [
    "We have, <br>\n",
    "H<sub>0</sub>: Gender and Education are independent <br>\n",
    "H<sub>1</sub>: Gender and Education are dependent\n",
    "\n",
    "The expected frequency under the null hypothesis is given by:\n",
    "\n",
    "E = row total \\* column total / sample size\n",
    "\n",
    "Row totals and column totals are given above\n",
    "sample size = 395\n",
    "\n",
    "Therefore, we have expected frequencies as follows: <br>\n",
    "\n",
    "High School Bachelors Masters Ph.d.<br>\n",
    "Female 50.886 49.868 50.377 49.868 <br>\n",
    "Male 49.114 48.132 48.623 48.132\n",
    "\n",
    "Therefore,\n",
    "&Chi;<sup>2</sup> = 1.632 + 0.342 + 0.38 + 1.577 + 1.691 + 0.355 + 0.394 + 1.634 = 8.006 \n",
    "\n",
    "&Chi;<sup>2</sup><sub>0.95</sub> for degrees of freedom 3 = 7.815.\n",
    "\n",
    "Since 8.006 > 7.815, we reject the null hypothesis.\n",
    "Therefore, gender and education are dependent\n"
   ]
  },
  {
   "cell_type": "code",
   "execution_count": null,
   "metadata": {},
   "outputs": [],
   "source": []
  },
  {
   "cell_type": "code",
   "execution_count": null,
   "metadata": {},
   "outputs": [],
   "source": []
  }
 ],
 "metadata": {
  "kernelspec": {
   "display_name": "Python 3",
   "language": "python",
   "name": "python3"
  },
  "language_info": {
   "codemirror_mode": {
    "name": "ipython",
    "version": 3
   },
   "file_extension": ".py",
   "mimetype": "text/x-python",
   "name": "python",
   "nbconvert_exporter": "python",
   "pygments_lexer": "ipython3",
   "version": "3.5.4"
  }
 },
 "nbformat": 4,
 "nbformat_minor": 2
}
